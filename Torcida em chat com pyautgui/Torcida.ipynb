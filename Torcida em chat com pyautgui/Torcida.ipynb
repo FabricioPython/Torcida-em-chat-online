{
 "cells": [
  {
   "cell_type": "code",
   "execution_count": 11,
   "metadata": {},
   "outputs": [],
   "source": [
    "import pyautogui as gui\n",
    "import pyperclip\n",
    "import time\n",
    "import random            "
   ]
  },
  {
   "cell_type": "code",
   "execution_count": 12,
   "metadata": {},
   "outputs": [],
   "source": [
    "# entra no site e clica na barra de conversa\n",
    "gui.hotkey('ctrl', 't')\n",
    "link = 'link da transmição, youtube, twich, booyah'\n",
    "pyperclip.copy(link)\n",
    "gui.hotkey('ctrl', 'v')\n",
    "gui.press('enter')\n",
    " \n",
    "\n",
    "\n",
    "# espera o site carregar em  20 segundos.\n",
    "time.sleep(20)"
   ]
  },
  {
   "cell_type": "code",
   "execution_count": null,
   "metadata": {},
   "outputs": [],
   "source": [
    "# mensagem + código de emoji.\n",
    "time.sleep(5)\n",
    "\n",
    "mensagem = [\"#TEAM Mensagem\\U0001f49c\",\n",
    "            \"\\U0001f49cMensagem\\U0001f49c\",\n",
    "            'Mensagem\\U0001f49c\\U0001f49c\\U0001f49c',\n",
    "           \"Go\\U0001f49cMensagem!\", \"Mensagem\\U0001f352\\U0001f49c\",\n",
    "           \"#TEAM\\U0001f352\\U0001f49cMensagem!\"]\n",
    "\n",
    "\n",
    "\n",
    "# repetição automática com contagem e sorteio da mensagem.\n",
    "for clicar in range(1000):       \n",
    "    mes = random.choice(mensagem)\n",
    "    gui.click(x=1058, y=639)\n",
    "    pyperclip.copy(mes)\n",
    "    gui.hotkey('ctrl', 'v')\n",
    "    gui.press('enter')\n",
    "    time.sleep(4) # tempo ajustável"
   ]
  }
 ],
 "metadata": {
  "kernelspec": {
   "display_name": "Python 3",
   "language": "python",
   "name": "python3"
  },
  "language_info": {
   "codemirror_mode": {
    "name": "ipython",
    "version": 3
   },
   "file_extension": ".py",
   "mimetype": "text/x-python",
   "name": "python",
   "nbconvert_exporter": "python",
   "pygments_lexer": "ipython3",
   "version": "3.8.5"
  }
 },
 "nbformat": 4,
 "nbformat_minor": 4
}
